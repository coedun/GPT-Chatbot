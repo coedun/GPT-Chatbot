{
 "cells": [
  {
   "cell_type": "code",
   "execution_count": 45,
   "id": "540d4cbc",
   "metadata": {},
   "outputs": [
    {
     "name": "stdout",
     "output_type": "stream",
     "text": [
      "Python 3.11.5\n"
     ]
    }
   ],
   "source": [
    "!python --version"
   ]
  },
  {
   "cell_type": "code",
   "execution_count": 46,
   "id": "7b6f3c03-39bb-4eb7-8334-28dbf07c94a4",
   "metadata": {},
   "outputs": [
    {
     "name": "stdout",
     "output_type": "stream",
     "text": [
      "cpu\n",
      "11.8\n"
     ]
    }
   ],
   "source": [
    "import torch\n",
    "import torch.nn as nn\n",
    "from torch.nn import functional as F\n",
    "device = 'cuda' if torch.cuda.is_available() else 'cpu'\n",
    "print(device)\n",
    "print(torch.version.cuda)\n",
    "\n",
    "# hyper parameters\n",
    "max_iters = 10000\n",
    "# eval interval = 2500\n",
    "block_size = 8\n",
    "batch_size = 4\n",
    "learning_rate = 3e-4\n",
    "eval_iters = 250"
   ]
  },
  {
   "cell_type": "code",
   "execution_count": 47,
   "id": "c3875f19-112d-4a63-8e22-aff6be2e43e6",
   "metadata": {},
   "outputs": [
    {
     "name": "stdout",
     "output_type": "stream",
     "text": [
      "232310\n",
      "﻿\n",
      "  DOROTHY AND THE WIZARD IN OZ\n",
      "\n",
      "  BY\n",
      "\n",
      "  L. FRANK BAUM\n",
      "\n",
      "  AUTHOR OF THE WIZARD OF OZ, THE LAND OF OZ, OZMA OF OZ, ETC.\n",
      "\n",
      "  ILLUSTRATED BY JOHN R. NEILL\n",
      "\n",
      "  BOOKS OF WONDER WILLIAM MORROW & CO., INC. NE\n"
     ]
    }
   ],
   "source": [
    "with open('wizard_of_oz.txt','r', encoding='utf-8') as f:\n",
    "    text = f.read()\n",
    "print(len(text))\n",
    "print(text[:200])"
   ]
  },
  {
   "cell_type": "code",
   "execution_count": 48,
   "id": "c189c03c-339a-4e2d-a2cb-bc799152de3f",
   "metadata": {},
   "outputs": [
    {
     "name": "stdout",
     "output_type": "stream",
     "text": [
      "['\\n', ' ', '!', '\"', '&', \"'\", '(', ')', '*', ',', '-', '.', '0', '1', '2', '3', '4', '5', '6', '7', '8', '9', ':', ';', '?', 'A', 'B', 'C', 'D', 'E', 'F', 'G', 'H', 'I', 'J', 'K', 'L', 'M', 'N', 'O', 'P', 'Q', 'R', 'S', 'T', 'U', 'V', 'W', 'X', 'Y', 'Z', '[', ']', '_', 'a', 'b', 'c', 'd', 'e', 'f', 'g', 'h', 'i', 'j', 'k', 'l', 'm', 'n', 'o', 'p', 'q', 'r', 's', 't', 'u', 'v', 'w', 'x', 'y', 'z', '\\ufeff']\n"
     ]
    }
   ],
   "source": [
    "# chars all the characters in the text\n",
    "chars = sorted(set(text))\n",
    "print(chars)\n",
    "vocab_size = len(chars)"
   ]
  },
  {
   "cell_type": "code",
   "execution_count": 49,
   "id": "7b7477d9-ddd8-4295-ba37-3e9dc397f5df",
   "metadata": {},
   "outputs": [
    {
     "name": "stdout",
     "output_type": "stream",
     "text": [
      "tensor([80,  0,  1,  1, 28, 39, 42, 39, 44, 32, 49,  1, 25, 38, 28,  1, 44, 32,\n",
      "        29,  1, 47, 33, 50, 25, 42, 28,  1, 33, 38,  1, 39, 50,  0,  0,  1,  1,\n",
      "        26, 49,  0,  0,  1,  1, 36, 11,  1, 30, 42, 25, 38, 35,  1, 26, 25, 45,\n",
      "        37,  0,  0,  1,  1, 25, 45, 44, 32, 39, 42,  1, 39, 30,  1, 44, 32, 29,\n",
      "         1, 47, 33, 50, 25, 42, 28,  1, 39, 30,  1, 39, 50,  9,  1, 44, 32, 29,\n",
      "         1, 36, 25, 38, 28,  1, 39, 30,  1, 39])\n"
     ]
    }
   ],
   "source": [
    "# now we can use a tokeniser,\n",
    "# a tokeniser consists of an encoder and a decoder\n",
    "string_to_int = {ch:i for i,ch in enumerate(chars)}\n",
    "int_to_string = {i:ch for i,ch in enumerate(chars)}\n",
    "\n",
    "encode = lambda s: [string_to_int[c] for c in s]\n",
    "decode = lambda l: ''.join([int_to_string[i] for i in l])\n",
    "data = torch.tensor(encode(text), dtype=torch.long)\n",
    "print(data[:100])"
   ]
  },
  {
   "cell_type": "code",
   "execution_count": 50,
   "id": "165f26c4-2fd3-498c-9bee-9fa0dcc9b950",
   "metadata": {},
   "outputs": [
    {
     "name": "stdout",
     "output_type": "stream",
     "text": [
      "inputs: \n",
      " tensor([[ 0,  0, 28, 68, 71, 68, 73, 61],\n",
      "        [68,  1, 66, 58, 58, 73,  1, 61],\n",
      "        [58, 69, 62, 67, 60,  1, 61, 62],\n",
      "        [65, 11,  0, 50, 58, 55,  1, 76]]) \n",
      " outputs: \n",
      " tensor([[ 0, 28, 68, 71, 68, 73, 61, 78],\n",
      "        [ 1, 66, 58, 58, 73,  1, 61, 58],\n",
      "        [69, 62, 67, 60,  1, 61, 62, 66],\n",
      "        [11,  0, 50, 58, 55,  1, 76, 54]])\n"
     ]
    }
   ],
   "source": [
    "n = int(0.8*len(data))\n",
    "train_data = data[:n]\n",
    "val_data = data[n:]\n",
    "\n",
    "def get_batch(split):\n",
    "    data = train_data if split == 'train' else val_data\n",
    "    ix = torch.randint(len(data) - block_size, (batch_size,))\n",
    "    #print(ix)\n",
    "    x = torch.stack([data[i:i+block_size] for i in ix])\n",
    "    y = torch.stack([data[i+1:i+block_size+1] for i in ix])\n",
    "    x,y = x.to(device), y.to(device) #method to push to the gpu\n",
    "    return x,y\n",
    "\n",
    "x,y = get_batch('train')\n",
    "print('inputs: \\n',x,'\\n','outputs: \\n', y)"
   ]
  },
  {
   "cell_type": "code",
   "execution_count": 56,
   "id": "35607ee8-d008-4b62-a07e-267bf185fc8e",
   "metadata": {},
   "outputs": [],
   "source": [
    "@torch.no_grad()\n",
    "def estimate_loss():\n",
    "    out = {}\n",
    "    model.eval()\n",
    "    for split in ['train', 'val']:\n",
    "        losses = torch.zeros(eval_iters)\n",
    "        for k in range(eval_iters):\n",
    "            X,Y = get_batch(split)\n",
    "            logits, loss = model(X,Y)\n",
    "            losses[k] = loss.item()\n",
    "        out[split] = losses.mean()\n",
    "    model.train()\n",
    "    return out"
   ]
  },
  {
   "cell_type": "code",
   "execution_count": 53,
   "id": "6e390b82-8fe7-4fbe-bc14-ab1d0bcec907",
   "metadata": {},
   "outputs": [
    {
     "name": "stdout",
     "output_type": "stream",
     "text": [
      "when the input is:  tensor([80])  target is:  tensor(0)\n",
      "when the input is:  tensor([80,  0])  target is:  tensor(1)\n",
      "when the input is:  tensor([80,  0,  1])  target is:  tensor(1)\n",
      "when the input is:  tensor([80,  0,  1,  1])  target is:  tensor(28)\n",
      "when the input is:  tensor([80,  0,  1,  1, 28])  target is:  tensor(39)\n",
      "when the input is:  tensor([80,  0,  1,  1, 28, 39])  target is:  tensor(42)\n",
      "when the input is:  tensor([80,  0,  1,  1, 28, 39, 42])  target is:  tensor(39)\n",
      "when the input is:  tensor([80,  0,  1,  1, 28, 39, 42, 39])  target is:  tensor(44)\n"
     ]
    }
   ],
   "source": [
    "# bigram language model \n",
    "# make predictions off a block size \n",
    "# we have a tiny tensor of 5 images, and given the context we predict\n",
    "# how far away is the prediction from the error\n",
    "\n",
    "# this is taking the first 8 characters and is showing what the target is (so given the current character, predict the next)\n",
    "x = train_data[:block_size]\n",
    "y = train_data[1:block_size+1]\n",
    "\n",
    "for t in range(block_size):\n",
    "    context = x[:t+1]\n",
    "    target = y[t]\n",
    "    print(\"when the input is: \",context,\" target is: \",target)"
   ]
  },
  {
   "cell_type": "code",
   "execution_count": 54,
   "id": "bac8a50c-87e2-4202-a05c-32825fc96dec",
   "metadata": {},
   "outputs": [
    {
     "name": "stdout",
     "output_type": "stream",
     "text": [
      "\n",
      "n0bb7K7HvM7.7hA10Fz1w0F_8iM?)oDi,J6:xN6k.ON8-\"h6-cx7JBBK7PIXGXDJaIMxN2NOO]yk_rtvg0j\n",
      "*vI.L3:tegY.ElK7NZP?x7H((&NG8gPUJdloB\"JcTBcGk_MP_T﻿4NGG![d?;I8n&!m8t6IT2VzDfh\",mDcKu brnsSMb?*?n0']i)L,&G3[ZdJ49Q([b3z0-rJEGKTYRlzkXOi&Gq. f6kXz1F?4ixN6V\n",
      "R6h0yUFXCdJ\"p-cQqNZ﻿-V\n",
      "vXR!D*.zp]j:ydx\"a5*gaKa7!34wqpEGiQ?l3ui.YG']yRt]EXpyn8sldiVoZ[ZZ1IFrJ\"R-*zXZ\"rHzIBaPIE1cG﻿VJ?sIiTao]jbF6G,\"40\n",
      "6UyqfC,k'K5DcR'Ta);\"jZI(KaEgP\n",
      "Ww\n",
      "2IGTZmpNL_&?cLXO zP_8sAVn08R?;FgaolrH6Xe3pc\"9F\n",
      "?Y0.Z]g[[n!y\"KxN0WyuWSuV4A(8R:t8]QsAtwZ0Js&71Wq\n",
      "v\n"
     ]
    }
   ],
   "source": [
    "class BigramLanguageModel(nn.Module):\n",
    "    def __init__(self, vocab_size):\n",
    "        super().__init__()\n",
    "        self.token__embeddings_table = nn.Embedding(vocab_size, vocab_size) # this is a learnable param\n",
    "\n",
    "    def forward(self, index, targets=None):\n",
    "        logits =  self.token__embeddings_table(index)\n",
    "        if targets is None:\n",
    "            loss = None\n",
    "        else:\n",
    "            B, T, C = logits.shape\n",
    "            logits = logits.view(B*T, C) \n",
    "            targets = targets.view(B*T)\n",
    "            loss = F.cross_entropy(logits, targets)\n",
    "        \n",
    "        return logits, loss\n",
    "        \n",
    "    def generate(self, index, max_new_tokens):\n",
    "        # index is (B X T) array of indices in the current context\n",
    "\n",
    "        # generates based on the max new tokens\n",
    "        for _ in range(max_new_tokens):\n",
    "            logits, loss = self.forward(index)\n",
    "            # focus on only the last time step\n",
    "            logits = logits[:, -1, :] # this becomes B,C\n",
    "            probs = F.softmax(logits, dim=-1)\n",
    "            # sample from the distribution only take 1 so get the next one\n",
    "            index_next = torch.multinomial(probs, num_samples=1) #(B,1)\n",
    "            # append the sampled index to the running sequence\n",
    "            index = torch.cat((index, index_next), dim=1) #(B, T+1)\n",
    "        return index\n",
    "\n",
    "model = BigramLanguageModel(vocab_size)\n",
    "m = model.to(device)\n",
    "\n",
    "context = torch.zeros((1,1), dtype=torch.long, device=device)\n",
    "generated_chars = decode(m.generate(context, max_new_tokens=500)[0].tolist())\n",
    "print(generated_chars)"
   ]
  },
  {
   "cell_type": "code",
   "execution_count": 63,
   "id": "adbd1218-a247-4983-997a-4b961494d67b",
   "metadata": {},
   "outputs": [
    {
     "name": "stdout",
     "output_type": "stream",
     "text": [
      "step: 0, train loss: 2.5108, val loss: 2.5332 \n",
      "step: 250, train loss: 2.5273, val loss: 2.5409 \n",
      "step: 500, train loss: 2.4881, val loss: 2.5318 \n",
      "step: 750, train loss: 2.5017, val loss: 2.5356 \n",
      "step: 1000, train loss: 2.4841, val loss: 2.5281 \n",
      "step: 1250, train loss: 2.4838, val loss: 2.5488 \n",
      "step: 1500, train loss: 2.5050, val loss: 2.5364 \n",
      "step: 1750, train loss: 2.5204, val loss: 2.5332 \n",
      "step: 2000, train loss: 2.4951, val loss: 2.5267 \n",
      "step: 2250, train loss: 2.4927, val loss: 2.5592 \n",
      "step: 2500, train loss: 2.4676, val loss: 2.5323 \n",
      "step: 2750, train loss: 2.5007, val loss: 2.5315 \n",
      "step: 3000, train loss: 2.4991, val loss: 2.5397 \n",
      "step: 3250, train loss: 2.5069, val loss: 2.5198 \n",
      "step: 3500, train loss: 2.4960, val loss: 2.5141 \n",
      "step: 3750, train loss: 2.4745, val loss: 2.5006 \n",
      "step: 4000, train loss: 2.4976, val loss: 2.5277 \n",
      "step: 4250, train loss: 2.4881, val loss: 2.5153 \n",
      "step: 4500, train loss: 2.4648, val loss: 2.5096 \n",
      "step: 4750, train loss: 2.4796, val loss: 2.5419 \n",
      "step: 5000, train loss: 2.4899, val loss: 2.5577 \n",
      "step: 5250, train loss: 2.4925, val loss: 2.5353 \n",
      "step: 5500, train loss: 2.4769, val loss: 2.5251 \n",
      "step: 5750, train loss: 2.4761, val loss: 2.4980 \n",
      "step: 6000, train loss: 2.4635, val loss: 2.5124 \n",
      "step: 6250, train loss: 2.4441, val loss: 2.5396 \n",
      "step: 6500, train loss: 2.4711, val loss: 2.5439 \n",
      "step: 6750, train loss: 2.4737, val loss: 2.5219 \n",
      "step: 7000, train loss: 2.4999, val loss: 2.5377 \n",
      "step: 7250, train loss: 2.4444, val loss: 2.5355 \n",
      "step: 7500, train loss: 2.4775, val loss: 2.5130 \n",
      "step: 7750, train loss: 2.4730, val loss: 2.4924 \n",
      "step: 8000, train loss: 2.4664, val loss: 2.5164 \n",
      "step: 8250, train loss: 2.4695, val loss: 2.4928 \n",
      "step: 8500, train loss: 2.4656, val loss: 2.5110 \n",
      "step: 8750, train loss: 2.4667, val loss: 2.5003 \n",
      "step: 9000, train loss: 2.4693, val loss: 2.5106 \n",
      "step: 9250, train loss: 2.4425, val loss: 2.5171 \n",
      "step: 9500, train loss: 2.4588, val loss: 2.5376 \n",
      "step: 9750, train loss: 2.4782, val loss: 2.5082 \n",
      "2.5643887519836426\n"
     ]
    }
   ],
   "source": [
    "# create the pytorch optimiser\n",
    "\n",
    "optimiser = torch.optim.AdamW(model.parameters(), lr=learning_rate)\n",
    "\n",
    "# the training loop\n",
    "for iter in range(max_iters):\n",
    "    if iter % eval_iters == 0:\n",
    "        losses = estimate_loss()\n",
    "        print(f\"step: {iter}, train loss: {losses['train']:.4f}, val loss: {losses['val']:.4f} \")\n",
    "\n",
    "    xb, yb = get_batch('train')\n",
    "\n",
    "    # evaluate the loss\n",
    "    logits, loss = model.forward(xb, yb)\n",
    "    optimiser.zero_grad(set_to_none=True) # zero grad ensures that the previous gradient does not affect the current one\n",
    "    # the gradients are set to none instead of zero as this occupies less space\n",
    "    loss.backward()\n",
    "    optimiser.step()\n",
    "\n",
    "print(loss.item())\n"
   ]
  },
  {
   "cell_type": "code",
   "execution_count": null,
   "id": "a1ce0a15-7753-48bd-bd5f-51adeb901be4",
   "metadata": {},
   "outputs": [],
   "source": [
    "context = torch.zeros((1,1), dtype=torch.long, device=device)\n",
    "generated_chars = decode(m.generate(context, max_new_tokens=500)[0].tolist())\n",
    "print(generated_chars)"
   ]
  },
  {
   "cell_type": "code",
   "execution_count": null,
   "id": "c43c89ea-4253-447e-bd3a-6cb6258197c4",
   "metadata": {},
   "outputs": [],
   "source": []
  },
  {
   "cell_type": "code",
   "execution_count": null,
   "id": "b62ed44a-6ac1-4e40-a20d-352b93e0de6b",
   "metadata": {},
   "outputs": [],
   "source": []
  }
 ],
 "metadata": {
  "kernelspec": {
   "display_name": "cuda",
   "language": "python",
   "name": "python3"
  },
  "language_info": {
   "codemirror_mode": {
    "name": "ipython",
    "version": 3
   },
   "file_extension": ".py",
   "mimetype": "text/x-python",
   "name": "python",
   "nbconvert_exporter": "python",
   "pygments_lexer": "ipython3",
   "version": "3.11.5"
  }
 },
 "nbformat": 4,
 "nbformat_minor": 5
}
